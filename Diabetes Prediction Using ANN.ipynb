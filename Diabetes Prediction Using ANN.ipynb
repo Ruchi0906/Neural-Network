{
 "cells": [
  {
   "cell_type": "code",
   "execution_count": 1,
   "id": "8fed2b18",
   "metadata": {},
   "outputs": [],
   "source": [
    "import pandas as pd\n",
    "import numpy as np\n",
    "from warnings import filterwarnings\n",
    "filterwarnings(\"ignore\")\n",
    "import matplotlib.pyplot as plt\n",
    "import seaborn as sb"
   ]
  },
  {
   "cell_type": "markdown",
   "id": "66cae170",
   "metadata": {},
   "source": [
    "# Read Data"
   ]
  },
  {
   "cell_type": "code",
   "execution_count": 2,
   "id": "c7a0c648",
   "metadata": {},
   "outputs": [],
   "source": [
    "train=pd.read_csv(\"C:/Users/AYUSH/Desktop/Dataset/Diabetes Dataset/train.csv\")"
   ]
  },
  {
   "cell_type": "markdown",
   "id": "5d5db12a",
   "metadata": {},
   "source": [
    "# Profile"
   ]
  },
  {
   "cell_type": "code",
   "execution_count": 3,
   "id": "e9213fb4",
   "metadata": {},
   "outputs": [
    {
     "data": {
      "text/html": [
       "<div>\n",
       "<style scoped>\n",
       "    .dataframe tbody tr th:only-of-type {\n",
       "        vertical-align: middle;\n",
       "    }\n",
       "\n",
       "    .dataframe tbody tr th {\n",
       "        vertical-align: top;\n",
       "    }\n",
       "\n",
       "    .dataframe thead th {\n",
       "        text-align: right;\n",
       "    }\n",
       "</style>\n",
       "<table border=\"1\" class=\"dataframe\">\n",
       "  <thead>\n",
       "    <tr style=\"text-align: right;\">\n",
       "      <th></th>\n",
       "      <th>p_id</th>\n",
       "      <th>no_times_pregnant</th>\n",
       "      <th>glucose_concentration</th>\n",
       "      <th>blood_pressure</th>\n",
       "      <th>skin_fold_thickness</th>\n",
       "      <th>serum_insulin</th>\n",
       "      <th>bmi</th>\n",
       "      <th>diabetes pedigree</th>\n",
       "      <th>age</th>\n",
       "      <th>diabetes</th>\n",
       "    </tr>\n",
       "  </thead>\n",
       "  <tbody>\n",
       "    <tr>\n",
       "      <th>0</th>\n",
       "      <td>316</td>\n",
       "      <td>2</td>\n",
       "      <td>112</td>\n",
       "      <td>68</td>\n",
       "      <td>22</td>\n",
       "      <td>94</td>\n",
       "      <td>34.1</td>\n",
       "      <td>0.315</td>\n",
       "      <td>26</td>\n",
       "      <td>0</td>\n",
       "    </tr>\n",
       "    <tr>\n",
       "      <th>1</th>\n",
       "      <td>25</td>\n",
       "      <td>11</td>\n",
       "      <td>143</td>\n",
       "      <td>94</td>\n",
       "      <td>33</td>\n",
       "      <td>146</td>\n",
       "      <td>36.6</td>\n",
       "      <td>0.254</td>\n",
       "      <td>51</td>\n",
       "      <td>1</td>\n",
       "    </tr>\n",
       "    <tr>\n",
       "      <th>2</th>\n",
       "      <td>710</td>\n",
       "      <td>2</td>\n",
       "      <td>93</td>\n",
       "      <td>64</td>\n",
       "      <td>32</td>\n",
       "      <td>160</td>\n",
       "      <td>38.0</td>\n",
       "      <td>0.674</td>\n",
       "      <td>23</td>\n",
       "      <td>1</td>\n",
       "    </tr>\n",
       "    <tr>\n",
       "      <th>3</th>\n",
       "      <td>658</td>\n",
       "      <td>1</td>\n",
       "      <td>120</td>\n",
       "      <td>80</td>\n",
       "      <td>48</td>\n",
       "      <td>200</td>\n",
       "      <td>38.9</td>\n",
       "      <td>1.162</td>\n",
       "      <td>41</td>\n",
       "      <td>0</td>\n",
       "    </tr>\n",
       "    <tr>\n",
       "      <th>4</th>\n",
       "      <td>542</td>\n",
       "      <td>3</td>\n",
       "      <td>128</td>\n",
       "      <td>72</td>\n",
       "      <td>25</td>\n",
       "      <td>190</td>\n",
       "      <td>32.4</td>\n",
       "      <td>0.549</td>\n",
       "      <td>27</td>\n",
       "      <td>1</td>\n",
       "    </tr>\n",
       "  </tbody>\n",
       "</table>\n",
       "</div>"
      ],
      "text/plain": [
       "   p_id  no_times_pregnant  glucose_concentration  blood_pressure  \\\n",
       "0   316                  2                    112              68   \n",
       "1    25                 11                    143              94   \n",
       "2   710                  2                     93              64   \n",
       "3   658                  1                    120              80   \n",
       "4   542                  3                    128              72   \n",
       "\n",
       "   skin_fold_thickness  serum_insulin   bmi  diabetes pedigree  age  diabetes  \n",
       "0                   22             94  34.1              0.315   26         0  \n",
       "1                   33            146  36.6              0.254   51         1  \n",
       "2                   32            160  38.0              0.674   23         1  \n",
       "3                   48            200  38.9              1.162   41         0  \n",
       "4                   25            190  32.4              0.549   27         1  "
      ]
     },
     "execution_count": 3,
     "metadata": {},
     "output_type": "execute_result"
    }
   ],
   "source": [
    "train.head()"
   ]
  },
  {
   "cell_type": "code",
   "execution_count": 4,
   "id": "29f48590",
   "metadata": {},
   "outputs": [
    {
     "name": "stdout",
     "output_type": "stream",
     "text": [
      "<class 'pandas.core.frame.DataFrame'>\n",
      "RangeIndex: 614 entries, 0 to 613\n",
      "Data columns (total 10 columns):\n",
      " #   Column                 Non-Null Count  Dtype  \n",
      "---  ------                 --------------  -----  \n",
      " 0   p_id                   614 non-null    int64  \n",
      " 1   no_times_pregnant      614 non-null    int64  \n",
      " 2   glucose_concentration  614 non-null    int64  \n",
      " 3   blood_pressure         614 non-null    int64  \n",
      " 4   skin_fold_thickness    614 non-null    int64  \n",
      " 5   serum_insulin          614 non-null    int64  \n",
      " 6   bmi                    614 non-null    float64\n",
      " 7   diabetes pedigree      614 non-null    float64\n",
      " 8   age                    614 non-null    int64  \n",
      " 9   diabetes               614 non-null    int64  \n",
      "dtypes: float64(2), int64(8)\n",
      "memory usage: 48.1 KB\n"
     ]
    }
   ],
   "source": [
    "train.info()"
   ]
  },
  {
   "cell_type": "code",
   "execution_count": 5,
   "id": "6d01024a",
   "metadata": {},
   "outputs": [
    {
     "data": {
      "text/html": [
       "<div>\n",
       "<style scoped>\n",
       "    .dataframe tbody tr th:only-of-type {\n",
       "        vertical-align: middle;\n",
       "    }\n",
       "\n",
       "    .dataframe tbody tr th {\n",
       "        vertical-align: top;\n",
       "    }\n",
       "\n",
       "    .dataframe thead th {\n",
       "        text-align: right;\n",
       "    }\n",
       "</style>\n",
       "<table border=\"1\" class=\"dataframe\">\n",
       "  <thead>\n",
       "    <tr style=\"text-align: right;\">\n",
       "      <th></th>\n",
       "      <th>p_id</th>\n",
       "      <th>no_times_pregnant</th>\n",
       "      <th>glucose_concentration</th>\n",
       "      <th>blood_pressure</th>\n",
       "      <th>skin_fold_thickness</th>\n",
       "      <th>serum_insulin</th>\n",
       "      <th>bmi</th>\n",
       "      <th>diabetes pedigree</th>\n",
       "      <th>age</th>\n",
       "      <th>diabetes</th>\n",
       "    </tr>\n",
       "  </thead>\n",
       "  <tbody>\n",
       "    <tr>\n",
       "      <th>count</th>\n",
       "      <td>614.000000</td>\n",
       "      <td>614.000000</td>\n",
       "      <td>614.000000</td>\n",
       "      <td>614.000000</td>\n",
       "      <td>614.000000</td>\n",
       "      <td>614.000000</td>\n",
       "      <td>614.000000</td>\n",
       "      <td>614.000000</td>\n",
       "      <td>614.000000</td>\n",
       "      <td>614.000000</td>\n",
       "    </tr>\n",
       "    <tr>\n",
       "      <th>mean</th>\n",
       "      <td>385.773616</td>\n",
       "      <td>3.853420</td>\n",
       "      <td>120.542345</td>\n",
       "      <td>68.765472</td>\n",
       "      <td>20.244300</td>\n",
       "      <td>79.355049</td>\n",
       "      <td>31.909935</td>\n",
       "      <td>0.466342</td>\n",
       "      <td>33.325733</td>\n",
       "      <td>0.348534</td>\n",
       "    </tr>\n",
       "    <tr>\n",
       "      <th>std</th>\n",
       "      <td>223.603024</td>\n",
       "      <td>3.358126</td>\n",
       "      <td>31.252286</td>\n",
       "      <td>19.914836</td>\n",
       "      <td>15.886083</td>\n",
       "      <td>117.709950</td>\n",
       "      <td>8.007699</td>\n",
       "      <td>0.331090</td>\n",
       "      <td>11.929569</td>\n",
       "      <td>0.476895</td>\n",
       "    </tr>\n",
       "    <tr>\n",
       "      <th>min</th>\n",
       "      <td>1.000000</td>\n",
       "      <td>0.000000</td>\n",
       "      <td>0.000000</td>\n",
       "      <td>0.000000</td>\n",
       "      <td>0.000000</td>\n",
       "      <td>0.000000</td>\n",
       "      <td>0.000000</td>\n",
       "      <td>0.078000</td>\n",
       "      <td>21.000000</td>\n",
       "      <td>0.000000</td>\n",
       "    </tr>\n",
       "    <tr>\n",
       "      <th>25%</th>\n",
       "      <td>191.250000</td>\n",
       "      <td>1.000000</td>\n",
       "      <td>99.000000</td>\n",
       "      <td>62.000000</td>\n",
       "      <td>0.000000</td>\n",
       "      <td>0.000000</td>\n",
       "      <td>27.300000</td>\n",
       "      <td>0.240250</td>\n",
       "      <td>24.000000</td>\n",
       "      <td>0.000000</td>\n",
       "    </tr>\n",
       "    <tr>\n",
       "      <th>50%</th>\n",
       "      <td>387.000000</td>\n",
       "      <td>3.000000</td>\n",
       "      <td>117.000000</td>\n",
       "      <td>72.000000</td>\n",
       "      <td>23.000000</td>\n",
       "      <td>17.000000</td>\n",
       "      <td>32.000000</td>\n",
       "      <td>0.361000</td>\n",
       "      <td>29.000000</td>\n",
       "      <td>0.000000</td>\n",
       "    </tr>\n",
       "    <tr>\n",
       "      <th>75%</th>\n",
       "      <td>572.750000</td>\n",
       "      <td>6.000000</td>\n",
       "      <td>139.000000</td>\n",
       "      <td>80.000000</td>\n",
       "      <td>32.000000</td>\n",
       "      <td>126.000000</td>\n",
       "      <td>36.600000</td>\n",
       "      <td>0.613500</td>\n",
       "      <td>41.000000</td>\n",
       "      <td>1.000000</td>\n",
       "    </tr>\n",
       "    <tr>\n",
       "      <th>max</th>\n",
       "      <td>768.000000</td>\n",
       "      <td>17.000000</td>\n",
       "      <td>197.000000</td>\n",
       "      <td>114.000000</td>\n",
       "      <td>63.000000</td>\n",
       "      <td>846.000000</td>\n",
       "      <td>59.400000</td>\n",
       "      <td>2.420000</td>\n",
       "      <td>81.000000</td>\n",
       "      <td>1.000000</td>\n",
       "    </tr>\n",
       "  </tbody>\n",
       "</table>\n",
       "</div>"
      ],
      "text/plain": [
       "             p_id  no_times_pregnant  glucose_concentration  blood_pressure  \\\n",
       "count  614.000000         614.000000             614.000000      614.000000   \n",
       "mean   385.773616           3.853420             120.542345       68.765472   \n",
       "std    223.603024           3.358126              31.252286       19.914836   \n",
       "min      1.000000           0.000000               0.000000        0.000000   \n",
       "25%    191.250000           1.000000              99.000000       62.000000   \n",
       "50%    387.000000           3.000000             117.000000       72.000000   \n",
       "75%    572.750000           6.000000             139.000000       80.000000   \n",
       "max    768.000000          17.000000             197.000000      114.000000   \n",
       "\n",
       "       skin_fold_thickness  serum_insulin         bmi  diabetes pedigree  \\\n",
       "count           614.000000     614.000000  614.000000         614.000000   \n",
       "mean             20.244300      79.355049   31.909935           0.466342   \n",
       "std              15.886083     117.709950    8.007699           0.331090   \n",
       "min               0.000000       0.000000    0.000000           0.078000   \n",
       "25%               0.000000       0.000000   27.300000           0.240250   \n",
       "50%              23.000000      17.000000   32.000000           0.361000   \n",
       "75%              32.000000     126.000000   36.600000           0.613500   \n",
       "max              63.000000     846.000000   59.400000           2.420000   \n",
       "\n",
       "              age    diabetes  \n",
       "count  614.000000  614.000000  \n",
       "mean    33.325733    0.348534  \n",
       "std     11.929569    0.476895  \n",
       "min     21.000000    0.000000  \n",
       "25%     24.000000    0.000000  \n",
       "50%     29.000000    0.000000  \n",
       "75%     41.000000    1.000000  \n",
       "max     81.000000    1.000000  "
      ]
     },
     "execution_count": 5,
     "metadata": {},
     "output_type": "execute_result"
    }
   ],
   "source": [
    "train.describe()"
   ]
  },
  {
   "cell_type": "markdown",
   "id": "e8157515",
   "metadata": {},
   "source": [
    "# Find missing data"
   ]
  },
  {
   "cell_type": "code",
   "execution_count": 6,
   "id": "9804c41b",
   "metadata": {},
   "outputs": [
    {
     "data": {
      "text/plain": [
       "p_id                     0\n",
       "no_times_pregnant        0\n",
       "glucose_concentration    0\n",
       "blood_pressure           0\n",
       "skin_fold_thickness      0\n",
       "serum_insulin            0\n",
       "bmi                      0\n",
       "diabetes pedigree        0\n",
       "age                      0\n",
       "diabetes                 0\n",
       "dtype: int64"
      ]
     },
     "execution_count": 6,
     "metadata": {},
     "output_type": "execute_result"
    }
   ],
   "source": [
    "train.isna().sum()"
   ]
  },
  {
   "cell_type": "markdown",
   "id": "f1a9e075",
   "metadata": {},
   "source": [
    "# Drop unnessary columns"
   ]
  },
  {
   "cell_type": "code",
   "execution_count": 7,
   "id": "f78b3745",
   "metadata": {},
   "outputs": [],
   "source": [
    "train = train.drop(labels=\"p_id\",axis=1)"
   ]
  },
  {
   "cell_type": "markdown",
   "id": "9c5717a3",
   "metadata": {},
   "source": [
    "# Define X and Y"
   ]
  },
  {
   "cell_type": "code",
   "execution_count": 8,
   "id": "8ea44546",
   "metadata": {},
   "outputs": [],
   "source": [
    "X = train.drop(labels=\"diabetes\",axis=1)\n",
    "Y = train[[\"diabetes\"]]"
   ]
  },
  {
   "cell_type": "markdown",
   "id": "aaced001",
   "metadata": {},
   "source": [
    "# Find and Remove Skew"
   ]
  },
  {
   "cell_type": "code",
   "execution_count": 9,
   "id": "a52638c7",
   "metadata": {},
   "outputs": [
    {
     "data": {
      "text/plain": [
       "blood_pressure          -1.877868\n",
       "bmi                     -0.539151\n",
       "skin_fold_thickness      0.014201\n",
       "glucose_concentration    0.120295\n",
       "no_times_pregnant        0.906273\n",
       "age                      1.143901\n",
       "diabetes pedigree        1.978319\n",
       "serum_insulin            2.394700\n",
       "dtype: float64"
      ]
     },
     "execution_count": 9,
     "metadata": {},
     "output_type": "execute_result"
    }
   ],
   "source": [
    "X.skew().sort_values()"
   ]
  },
  {
   "cell_type": "code",
   "execution_count": 10,
   "id": "f106328d",
   "metadata": {},
   "outputs": [],
   "source": [
    "cols_skew = [\"no_times_pregnant\",\"age\",\"diabetes pedigree\",\"serum_insulin\"]"
   ]
  },
  {
   "cell_type": "code",
   "execution_count": 11,
   "id": "c6021c71",
   "metadata": {},
   "outputs": [],
   "source": [
    "for i in cols_skew:\n",
    "    for j in range(0,614,1):\n",
    "        if(X[[i]].iloc[j,0]==0):\n",
    "            X[[i]] = X[[i]].replace(0,0.001)\n",
    "X1 = X[cols_skew].apply(np.log)"
   ]
  },
  {
   "cell_type": "code",
   "execution_count": 12,
   "id": "57dce9b4",
   "metadata": {},
   "outputs": [],
   "source": [
    "X = X.drop(labels=cols_skew,axis=1)\n",
    "X2 = X.join(X1)"
   ]
  },
  {
   "cell_type": "code",
   "execution_count": 13,
   "id": "9cc154d5",
   "metadata": {},
   "outputs": [
    {
     "data": {
      "text/html": [
       "<div>\n",
       "<style scoped>\n",
       "    .dataframe tbody tr th:only-of-type {\n",
       "        vertical-align: middle;\n",
       "    }\n",
       "\n",
       "    .dataframe tbody tr th {\n",
       "        vertical-align: top;\n",
       "    }\n",
       "\n",
       "    .dataframe thead th {\n",
       "        text-align: right;\n",
       "    }\n",
       "</style>\n",
       "<table border=\"1\" class=\"dataframe\">\n",
       "  <thead>\n",
       "    <tr style=\"text-align: right;\">\n",
       "      <th></th>\n",
       "      <th>glucose_concentration</th>\n",
       "      <th>blood_pressure</th>\n",
       "      <th>skin_fold_thickness</th>\n",
       "      <th>bmi</th>\n",
       "      <th>no_times_pregnant</th>\n",
       "      <th>age</th>\n",
       "      <th>diabetes pedigree</th>\n",
       "      <th>serum_insulin</th>\n",
       "    </tr>\n",
       "  </thead>\n",
       "  <tbody>\n",
       "    <tr>\n",
       "      <th>0</th>\n",
       "      <td>112</td>\n",
       "      <td>68</td>\n",
       "      <td>22</td>\n",
       "      <td>34.1</td>\n",
       "      <td>0.693147</td>\n",
       "      <td>3.258097</td>\n",
       "      <td>-1.155183</td>\n",
       "      <td>4.543295</td>\n",
       "    </tr>\n",
       "    <tr>\n",
       "      <th>1</th>\n",
       "      <td>143</td>\n",
       "      <td>94</td>\n",
       "      <td>33</td>\n",
       "      <td>36.6</td>\n",
       "      <td>2.397895</td>\n",
       "      <td>3.931826</td>\n",
       "      <td>-1.370421</td>\n",
       "      <td>4.983607</td>\n",
       "    </tr>\n",
       "  </tbody>\n",
       "</table>\n",
       "</div>"
      ],
      "text/plain": [
       "   glucose_concentration  blood_pressure  skin_fold_thickness   bmi  \\\n",
       "0                    112              68                   22  34.1   \n",
       "1                    143              94                   33  36.6   \n",
       "\n",
       "   no_times_pregnant       age  diabetes pedigree  serum_insulin  \n",
       "0           0.693147  3.258097          -1.155183       4.543295  \n",
       "1           2.397895  3.931826          -1.370421       4.983607  "
      ]
     },
     "execution_count": 13,
     "metadata": {},
     "output_type": "execute_result"
    }
   ],
   "source": [
    "X2.head(2)"
   ]
  },
  {
   "cell_type": "markdown",
   "id": "9b472574",
   "metadata": {},
   "source": [
    "# Preprocessing"
   ]
  },
  {
   "cell_type": "code",
   "execution_count": 14,
   "id": "a65e3af2",
   "metadata": {},
   "outputs": [],
   "source": [
    "from sklearn.preprocessing import StandardScaler\n",
    "ss = StandardScaler()\n",
    "X_new = pd.DataFrame(ss.fit_transform(X2),columns=X2.columns)"
   ]
  },
  {
   "cell_type": "code",
   "execution_count": 15,
   "id": "c4a89ca0",
   "metadata": {},
   "outputs": [
    {
     "data": {
      "text/html": [
       "<div>\n",
       "<style scoped>\n",
       "    .dataframe tbody tr th:only-of-type {\n",
       "        vertical-align: middle;\n",
       "    }\n",
       "\n",
       "    .dataframe tbody tr th {\n",
       "        vertical-align: top;\n",
       "    }\n",
       "\n",
       "    .dataframe thead th {\n",
       "        text-align: right;\n",
       "    }\n",
       "</style>\n",
       "<table border=\"1\" class=\"dataframe\">\n",
       "  <thead>\n",
       "    <tr style=\"text-align: right;\">\n",
       "      <th></th>\n",
       "      <th>glucose_concentration</th>\n",
       "      <th>blood_pressure</th>\n",
       "      <th>skin_fold_thickness</th>\n",
       "      <th>bmi</th>\n",
       "      <th>no_times_pregnant</th>\n",
       "      <th>age</th>\n",
       "      <th>diabetes pedigree</th>\n",
       "      <th>serum_insulin</th>\n",
       "    </tr>\n",
       "  </thead>\n",
       "  <tbody>\n",
       "    <tr>\n",
       "      <th>0</th>\n",
       "      <td>-0.273558</td>\n",
       "      <td>-0.038469</td>\n",
       "      <td>0.110608</td>\n",
       "      <td>0.273718</td>\n",
       "      <td>0.221589</td>\n",
       "      <td>-0.590595</td>\n",
       "      <td>-0.284440</td>\n",
       "      <td>0.941567</td>\n",
       "    </tr>\n",
       "    <tr>\n",
       "      <th>1</th>\n",
       "      <td>0.719178</td>\n",
       "      <td>1.268155</td>\n",
       "      <td>0.803603</td>\n",
       "      <td>0.586172</td>\n",
       "      <td>0.795984</td>\n",
       "      <td>1.480039</td>\n",
       "      <td>-0.619645</td>\n",
       "      <td>1.016456</td>\n",
       "    </tr>\n",
       "    <tr>\n",
       "      <th>2</th>\n",
       "      <td>-0.882009</td>\n",
       "      <td>-0.239488</td>\n",
       "      <td>0.740603</td>\n",
       "      <td>0.761146</td>\n",
       "      <td>0.221589</td>\n",
       "      <td>-0.967400</td>\n",
       "      <td>0.900180</td>\n",
       "      <td>1.032029</td>\n",
       "    </tr>\n",
       "  </tbody>\n",
       "</table>\n",
       "</div>"
      ],
      "text/plain": [
       "   glucose_concentration  blood_pressure  skin_fold_thickness       bmi  \\\n",
       "0              -0.273558       -0.038469             0.110608  0.273718   \n",
       "1               0.719178        1.268155             0.803603  0.586172   \n",
       "2              -0.882009       -0.239488             0.740603  0.761146   \n",
       "\n",
       "   no_times_pregnant       age  diabetes pedigree  serum_insulin  \n",
       "0           0.221589 -0.590595          -0.284440       0.941567  \n",
       "1           0.795984  1.480039          -0.619645       1.016456  \n",
       "2           0.221589 -0.967400           0.900180       1.032029  "
      ]
     },
     "execution_count": 15,
     "metadata": {},
     "output_type": "execute_result"
    }
   ],
   "source": [
    "X_new.head(3)"
   ]
  },
  {
   "cell_type": "markdown",
   "id": "ad41a47d",
   "metadata": {},
   "source": [
    "# Spliting data into training and testing set"
   ]
  },
  {
   "cell_type": "code",
   "execution_count": 16,
   "id": "159c37cd",
   "metadata": {},
   "outputs": [],
   "source": [
    "from sklearn.model_selection import train_test_split\n",
    "xtrain,xtest,ytrain,ytest = train_test_split(X_new,Y,test_size=0.2,random_state=42)"
   ]
  },
  {
   "cell_type": "markdown",
   "id": "34fe7245",
   "metadata": {},
   "source": [
    "# Create Neural Network"
   ]
  },
  {
   "cell_type": "code",
   "execution_count": 17,
   "id": "685c695a",
   "metadata": {},
   "outputs": [],
   "source": [
    "from keras.models import Sequential\n",
    "from keras.layers import Dense,Dropout\n",
    "\n",
    "nn = Sequential()\n",
    "nn.add(Dense(128,activation=\"relu\",input_dim = X_new.shape[1]))\n",
    "nn.add(Dropout(0.2))\n",
    "nn.add(Dense(128,activation=\"relu\"))\n",
    "nn.add(Dropout(0.2))\n",
    "nn.add(Dense(128,activation=\"relu\"))\n",
    "nn.add(Dropout(0.2))\n",
    "nn.add(Dense(1,activation=\"sigmoid\"))"
   ]
  },
  {
   "cell_type": "code",
   "execution_count": 18,
   "id": "4538be8d",
   "metadata": {},
   "outputs": [
    {
     "name": "stdout",
     "output_type": "stream",
     "text": [
      "Epoch 1/50\n",
      "16/16 [==============================] - 1s 14ms/step - loss: 0.6340 - accuracy: 0.6334 - val_loss: 0.5877 - val_accuracy: 0.6992\n",
      "Epoch 2/50\n",
      "16/16 [==============================] - 0s 3ms/step - loss: 0.5336 - accuracy: 0.7291 - val_loss: 0.5410 - val_accuracy: 0.7561\n",
      "Epoch 3/50\n",
      "16/16 [==============================] - 0s 3ms/step - loss: 0.4832 - accuracy: 0.7678 - val_loss: 0.5649 - val_accuracy: 0.7642\n",
      "Epoch 4/50\n",
      "16/16 [==============================] - 0s 3ms/step - loss: 0.4502 - accuracy: 0.7862 - val_loss: 0.5683 - val_accuracy: 0.7561\n",
      "Epoch 5/50\n",
      "16/16 [==============================] - 0s 3ms/step - loss: 0.4598 - accuracy: 0.8024 - val_loss: 0.5724 - val_accuracy: 0.7642\n",
      "Epoch 6/50\n",
      "16/16 [==============================] - 0s 3ms/step - loss: 0.4254 - accuracy: 0.8147 - val_loss: 0.5753 - val_accuracy: 0.7480\n",
      "Epoch 7/50\n",
      "16/16 [==============================] - 0s 4ms/step - loss: 0.4420 - accuracy: 0.7862 - val_loss: 0.5772 - val_accuracy: 0.7561\n",
      "Epoch 8/50\n",
      "16/16 [==============================] - 0s 3ms/step - loss: 0.4403 - accuracy: 0.7923 - val_loss: 0.5757 - val_accuracy: 0.7317\n",
      "Epoch 9/50\n",
      "16/16 [==============================] - 0s 3ms/step - loss: 0.4372 - accuracy: 0.7739 - val_loss: 0.5712 - val_accuracy: 0.7642\n",
      "Epoch 10/50\n",
      "16/16 [==============================] - 0s 3ms/step - loss: 0.4218 - accuracy: 0.7984 - val_loss: 0.5766 - val_accuracy: 0.7480\n",
      "Epoch 11/50\n",
      "16/16 [==============================] - 0s 3ms/step - loss: 0.4157 - accuracy: 0.8147 - val_loss: 0.5842 - val_accuracy: 0.7561\n",
      "Epoch 12/50\n",
      "16/16 [==============================] - 0s 3ms/step - loss: 0.4202 - accuracy: 0.8004 - val_loss: 0.5874 - val_accuracy: 0.7317\n",
      "Epoch 13/50\n",
      "16/16 [==============================] - 0s 3ms/step - loss: 0.4173 - accuracy: 0.8106 - val_loss: 0.5962 - val_accuracy: 0.7398\n",
      "Epoch 14/50\n",
      "16/16 [==============================] - 0s 3ms/step - loss: 0.4126 - accuracy: 0.7984 - val_loss: 0.5826 - val_accuracy: 0.7480\n",
      "Epoch 15/50\n",
      "16/16 [==============================] - 0s 3ms/step - loss: 0.4094 - accuracy: 0.8208 - val_loss: 0.5779 - val_accuracy: 0.7642\n",
      "Epoch 16/50\n",
      "16/16 [==============================] - 0s 3ms/step - loss: 0.4000 - accuracy: 0.8208 - val_loss: 0.6006 - val_accuracy: 0.7154\n",
      "Epoch 17/50\n",
      "16/16 [==============================] - 0s 3ms/step - loss: 0.3863 - accuracy: 0.8228 - val_loss: 0.5970 - val_accuracy: 0.7398\n",
      "Epoch 18/50\n",
      "16/16 [==============================] - 0s 3ms/step - loss: 0.3921 - accuracy: 0.8289 - val_loss: 0.5984 - val_accuracy: 0.7236\n",
      "Epoch 19/50\n",
      "16/16 [==============================] - 0s 3ms/step - loss: 0.3961 - accuracy: 0.8147 - val_loss: 0.6120 - val_accuracy: 0.7317\n",
      "Epoch 20/50\n",
      "16/16 [==============================] - 0s 3ms/step - loss: 0.3937 - accuracy: 0.8167 - val_loss: 0.6109 - val_accuracy: 0.7154\n",
      "Epoch 21/50\n",
      "16/16 [==============================] - 0s 3ms/step - loss: 0.3920 - accuracy: 0.8167 - val_loss: 0.6028 - val_accuracy: 0.7317\n",
      "Epoch 22/50\n",
      "16/16 [==============================] - 0s 3ms/step - loss: 0.3956 - accuracy: 0.8147 - val_loss: 0.6069 - val_accuracy: 0.7236\n",
      "Epoch 23/50\n",
      "16/16 [==============================] - 0s 3ms/step - loss: 0.3823 - accuracy: 0.8289 - val_loss: 0.6179 - val_accuracy: 0.7317\n",
      "Epoch 24/50\n",
      "16/16 [==============================] - 0s 3ms/step - loss: 0.3878 - accuracy: 0.8350 - val_loss: 0.6128 - val_accuracy: 0.7154\n",
      "Epoch 25/50\n",
      "16/16 [==============================] - 0s 3ms/step - loss: 0.3833 - accuracy: 0.8452 - val_loss: 0.6192 - val_accuracy: 0.7480\n",
      "Epoch 26/50\n",
      "16/16 [==============================] - 0s 3ms/step - loss: 0.3803 - accuracy: 0.8228 - val_loss: 0.6339 - val_accuracy: 0.6829\n",
      "Epoch 27/50\n",
      "16/16 [==============================] - 0s 3ms/step - loss: 0.3733 - accuracy: 0.8269 - val_loss: 0.5955 - val_accuracy: 0.7561\n",
      "Epoch 28/50\n",
      "16/16 [==============================] - 0s 3ms/step - loss: 0.3756 - accuracy: 0.8228 - val_loss: 0.6180 - val_accuracy: 0.7154\n",
      "Epoch 29/50\n",
      "16/16 [==============================] - 0s 3ms/step - loss: 0.3826 - accuracy: 0.8208 - val_loss: 0.6035 - val_accuracy: 0.7561\n",
      "Epoch 30/50\n",
      "16/16 [==============================] - 0s 3ms/step - loss: 0.3725 - accuracy: 0.8350 - val_loss: 0.6100 - val_accuracy: 0.7073\n",
      "Epoch 31/50\n",
      "16/16 [==============================] - 0s 3ms/step - loss: 0.3730 - accuracy: 0.8432 - val_loss: 0.6277 - val_accuracy: 0.7398\n",
      "Epoch 32/50\n",
      "16/16 [==============================] - 0s 3ms/step - loss: 0.3704 - accuracy: 0.8248 - val_loss: 0.6386 - val_accuracy: 0.7073\n",
      "Epoch 33/50\n",
      "16/16 [==============================] - 0s 3ms/step - loss: 0.3569 - accuracy: 0.8350 - val_loss: 0.6429 - val_accuracy: 0.7073\n",
      "Epoch 34/50\n",
      "16/16 [==============================] - 0s 4ms/step - loss: 0.3494 - accuracy: 0.8554 - val_loss: 0.6629 - val_accuracy: 0.7154\n",
      "Epoch 35/50\n",
      "16/16 [==============================] - 0s 3ms/step - loss: 0.3638 - accuracy: 0.8371 - val_loss: 0.6633 - val_accuracy: 0.7236\n",
      "Epoch 36/50\n",
      "16/16 [==============================] - 0s 3ms/step - loss: 0.3600 - accuracy: 0.8493 - val_loss: 0.6470 - val_accuracy: 0.7154\n",
      "Epoch 37/50\n",
      "16/16 [==============================] - 0s 3ms/step - loss: 0.3421 - accuracy: 0.8452 - val_loss: 0.6706 - val_accuracy: 0.7073\n",
      "Epoch 38/50\n",
      "16/16 [==============================] - 0s 3ms/step - loss: 0.3339 - accuracy: 0.8493 - val_loss: 0.6753 - val_accuracy: 0.6992\n",
      "Epoch 39/50\n",
      "16/16 [==============================] - 0s 3ms/step - loss: 0.3506 - accuracy: 0.8493 - val_loss: 0.7042 - val_accuracy: 0.7073\n",
      "Epoch 40/50\n",
      "16/16 [==============================] - 0s 3ms/step - loss: 0.3548 - accuracy: 0.8391 - val_loss: 0.6757 - val_accuracy: 0.6992\n",
      "Epoch 41/50\n",
      "16/16 [==============================] - 0s 3ms/step - loss: 0.3465 - accuracy: 0.8473 - val_loss: 0.6461 - val_accuracy: 0.7236\n",
      "Epoch 42/50\n",
      "16/16 [==============================] - 0s 3ms/step - loss: 0.3292 - accuracy: 0.8493 - val_loss: 0.6865 - val_accuracy: 0.7073\n",
      "Epoch 43/50\n",
      "16/16 [==============================] - 0s 3ms/step - loss: 0.3374 - accuracy: 0.8473 - val_loss: 0.6963 - val_accuracy: 0.7073\n",
      "Epoch 44/50\n",
      "16/16 [==============================] - 0s 3ms/step - loss: 0.3216 - accuracy: 0.8432 - val_loss: 0.6925 - val_accuracy: 0.7236\n",
      "Epoch 45/50\n",
      "16/16 [==============================] - 0s 3ms/step - loss: 0.3211 - accuracy: 0.8513 - val_loss: 0.7090 - val_accuracy: 0.7398\n",
      "Epoch 46/50\n",
      "16/16 [==============================] - 0s 3ms/step - loss: 0.3228 - accuracy: 0.8534 - val_loss: 0.6953 - val_accuracy: 0.7317\n",
      "Epoch 47/50\n",
      "16/16 [==============================] - 0s 3ms/step - loss: 0.3214 - accuracy: 0.8595 - val_loss: 0.7200 - val_accuracy: 0.7154\n",
      "Epoch 48/50\n",
      "16/16 [==============================] - 0s 3ms/step - loss: 0.3346 - accuracy: 0.8473 - val_loss: 0.7166 - val_accuracy: 0.7154\n",
      "Epoch 49/50\n",
      "16/16 [==============================] - 0s 3ms/step - loss: 0.3291 - accuracy: 0.8391 - val_loss: 0.7330 - val_accuracy: 0.7073\n",
      "Epoch 50/50\n",
      "16/16 [==============================] - 0s 3ms/step - loss: 0.3055 - accuracy: 0.8656 - val_loss: 0.7290 - val_accuracy: 0.7154\n"
     ]
    },
    {
     "data": {
      "text/plain": [
       "<keras.callbacks.History at 0x28a36a705e0>"
      ]
     },
     "execution_count": 18,
     "metadata": {},
     "output_type": "execute_result"
    }
   ],
   "source": [
    "nn.compile(loss=\"binary_crossentropy\",optimizer=\"Adam\",metrics=[\"accuracy\"])\n",
    "nn.fit(X_new,Y,validation_split=0.2,epochs=50)"
   ]
  },
  {
   "cell_type": "markdown",
   "id": "81c7706e",
   "metadata": {},
   "source": [
    "# Tuning model parameters"
   ]
  },
  {
   "cell_type": "code",
   "execution_count": 19,
   "id": "b0ad729c",
   "metadata": {},
   "outputs": [],
   "source": [
    "def model(hp):\n",
    "    nn = Sequential()\n",
    "    nn.add(Dense(128,activation=\"relu\",input_dim = X_new.shape[1]))\n",
    "    x = hp.Int(\"units\",min_value=128,max_value=640,step=32)\n",
    "    y = hp.Choice(\"rate\",values=[0.1,0.2,0.3,0.4,0.5,0.6,0.7,0.8,0.9])\n",
    "    nn.add(Dropout(rate=y))\n",
    "    nn.add(Dense(units = x,activation=\"relu\"))\n",
    "    nn.add(Dropout(rate=y))\n",
    "    nn.add(Dense(units = x,activation=\"relu\"))\n",
    "    nn.add(Dropout(rate=y))\n",
    "    nn.add(Dense(1,activation=\"sigmoid\"))\n",
    "    nn.compile(loss=\"binary_crossentropy\",metrics=[\"accuracy\"])\n",
    "    return nn"
   ]
  },
  {
   "cell_type": "code",
   "execution_count": 20,
   "id": "ffe996aa",
   "metadata": {},
   "outputs": [],
   "source": [
    "import keras_tuner as kt\n",
    "tuner = kt.Hyperband(model,\n",
    "                     objective=\"val_accuracy\",\n",
    "                    max_epochs=10,\n",
    "                    directory=\"C:/Users/AYUSH/Desktop/Keras_Tuner/KT_NN3\",\n",
    "                    project_name=\"Keras_TUNER\")\n"
   ]
  },
  {
   "cell_type": "code",
   "execution_count": 21,
   "id": "6e252f31",
   "metadata": {},
   "outputs": [
    {
     "name": "stdout",
     "output_type": "stream",
     "text": [
      "Trial 30 Complete [00h 00m 02s]\n",
      "val_accuracy: 0.6767676472663879\n",
      "\n",
      "Best val_accuracy So Far: 0.8181818127632141\n",
      "Total elapsed time: 00h 00m 45s\n",
      "INFO:tensorflow:Oracle triggered exit\n"
     ]
    }
   ],
   "source": [
    "tuner.search(xtrain,ytrain,epochs=60,validation_split=0.2)"
   ]
  },
  {
   "cell_type": "code",
   "execution_count": 22,
   "id": "8c36cd42",
   "metadata": {},
   "outputs": [
    {
     "data": {
      "text/plain": [
       "160"
      ]
     },
     "execution_count": 22,
     "metadata": {},
     "output_type": "execute_result"
    }
   ],
   "source": [
    "tuner.get_best_hyperparameters()[0].get(\"units\")"
   ]
  },
  {
   "cell_type": "code",
   "execution_count": 23,
   "id": "faf6f3b8",
   "metadata": {},
   "outputs": [
    {
     "data": {
      "text/plain": [
       "0.3"
      ]
     },
     "execution_count": 23,
     "metadata": {},
     "output_type": "execute_result"
    }
   ],
   "source": [
    "tuner.get_best_hyperparameters()[0].get(\"rate\")"
   ]
  },
  {
   "cell_type": "markdown",
   "id": "75d2cc82",
   "metadata": {},
   "source": [
    "# Create a NN with new value of tuned parameter"
   ]
  },
  {
   "cell_type": "code",
   "execution_count": 43,
   "id": "8d890533",
   "metadata": {},
   "outputs": [],
   "source": [
    "nn1 = Sequential()\n",
    "nn1.add(Dense(128,activation=\"relu\",input_dim = X_new.shape[1]))\n",
    "nn1.add(Dropout(0.3))\n",
    "nn1.add(Dense(160,activation=\"relu\"))\n",
    "nn1.add(Dropout(0.3))\n",
    "nn1.add(Dense(160,activation=\"relu\"))\n",
    "nn1.add(Dropout(0.3))\n",
    "nn1.add(Dense(1,activation=\"sigmoid\"))"
   ]
  },
  {
   "cell_type": "code",
   "execution_count": 44,
   "id": "612898d9",
   "metadata": {},
   "outputs": [
    {
     "name": "stdout",
     "output_type": "stream",
     "text": [
      "Epoch 1/50\n",
      "16/16 [==============================] - 1s 12ms/step - loss: 0.6277 - accuracy: 0.6395 - val_loss: 0.5475 - val_accuracy: 0.7805\n",
      "Epoch 2/50\n",
      "16/16 [==============================] - 0s 4ms/step - loss: 0.5219 - accuracy: 0.7556 - val_loss: 0.5225 - val_accuracy: 0.7886\n",
      "Epoch 3/50\n",
      "16/16 [==============================] - 0s 4ms/step - loss: 0.4719 - accuracy: 0.7800 - val_loss: 0.5422 - val_accuracy: 0.7642\n",
      "Epoch 4/50\n",
      "16/16 [==============================] - 0s 4ms/step - loss: 0.4463 - accuracy: 0.7821 - val_loss: 0.5609 - val_accuracy: 0.7642\n",
      "Epoch 5/50\n",
      "16/16 [==============================] - 0s 4ms/step - loss: 0.4630 - accuracy: 0.7862 - val_loss: 0.5667 - val_accuracy: 0.7398\n",
      "Epoch 6/50\n",
      "16/16 [==============================] - 0s 4ms/step - loss: 0.4409 - accuracy: 0.8065 - val_loss: 0.5745 - val_accuracy: 0.7236\n",
      "Epoch 7/50\n",
      "16/16 [==============================] - 0s 4ms/step - loss: 0.4338 - accuracy: 0.8024 - val_loss: 0.5779 - val_accuracy: 0.7642\n",
      "Epoch 8/50\n",
      "16/16 [==============================] - 0s 4ms/step - loss: 0.4574 - accuracy: 0.7678 - val_loss: 0.5678 - val_accuracy: 0.7480\n",
      "Epoch 9/50\n",
      "16/16 [==============================] - 0s 4ms/step - loss: 0.4398 - accuracy: 0.8004 - val_loss: 0.5655 - val_accuracy: 0.7317\n",
      "Epoch 10/50\n",
      "16/16 [==============================] - 0s 4ms/step - loss: 0.4493 - accuracy: 0.7862 - val_loss: 0.5686 - val_accuracy: 0.7398\n",
      "Epoch 11/50\n",
      "16/16 [==============================] - 0s 5ms/step - loss: 0.4372 - accuracy: 0.7902 - val_loss: 0.5722 - val_accuracy: 0.7642\n",
      "Epoch 12/50\n",
      "16/16 [==============================] - 0s 4ms/step - loss: 0.4294 - accuracy: 0.8024 - val_loss: 0.5716 - val_accuracy: 0.7642\n",
      "Epoch 13/50\n",
      "16/16 [==============================] - 0s 4ms/step - loss: 0.4320 - accuracy: 0.7821 - val_loss: 0.5888 - val_accuracy: 0.7398\n",
      "Epoch 14/50\n",
      "16/16 [==============================] - 0s 4ms/step - loss: 0.4322 - accuracy: 0.7984 - val_loss: 0.5749 - val_accuracy: 0.7317\n",
      "Epoch 15/50\n",
      "16/16 [==============================] - 0s 4ms/step - loss: 0.4209 - accuracy: 0.7943 - val_loss: 0.5915 - val_accuracy: 0.7236\n",
      "Epoch 16/50\n",
      "16/16 [==============================] - 0s 4ms/step - loss: 0.4230 - accuracy: 0.8024 - val_loss: 0.5962 - val_accuracy: 0.7398\n",
      "Epoch 17/50\n",
      "16/16 [==============================] - 0s 4ms/step - loss: 0.4335 - accuracy: 0.8045 - val_loss: 0.5803 - val_accuracy: 0.7317\n",
      "Epoch 18/50\n",
      "16/16 [==============================] - 0s 4ms/step - loss: 0.4162 - accuracy: 0.7984 - val_loss: 0.5825 - val_accuracy: 0.7317\n",
      "Epoch 19/50\n",
      "16/16 [==============================] - 0s 4ms/step - loss: 0.4192 - accuracy: 0.7923 - val_loss: 0.5903 - val_accuracy: 0.7236\n",
      "Epoch 20/50\n",
      "16/16 [==============================] - 0s 4ms/step - loss: 0.4085 - accuracy: 0.7963 - val_loss: 0.6119 - val_accuracy: 0.7073\n",
      "Epoch 21/50\n",
      "16/16 [==============================] - 0s 4ms/step - loss: 0.4159 - accuracy: 0.7882 - val_loss: 0.6058 - val_accuracy: 0.7480\n",
      "Epoch 22/50\n",
      "16/16 [==============================] - 0s 4ms/step - loss: 0.4223 - accuracy: 0.8024 - val_loss: 0.5998 - val_accuracy: 0.7154\n",
      "Epoch 23/50\n",
      "16/16 [==============================] - 0s 4ms/step - loss: 0.3959 - accuracy: 0.8167 - val_loss: 0.6113 - val_accuracy: 0.7480\n",
      "Epoch 24/50\n",
      "16/16 [==============================] - 0s 5ms/step - loss: 0.4186 - accuracy: 0.8045 - val_loss: 0.6058 - val_accuracy: 0.7561\n",
      "Epoch 25/50\n",
      "16/16 [==============================] - 0s 4ms/step - loss: 0.4005 - accuracy: 0.8086 - val_loss: 0.6079 - val_accuracy: 0.7480\n",
      "Epoch 26/50\n",
      "16/16 [==============================] - 0s 4ms/step - loss: 0.4161 - accuracy: 0.7923 - val_loss: 0.5903 - val_accuracy: 0.7480\n",
      "Epoch 27/50\n",
      "16/16 [==============================] - 0s 4ms/step - loss: 0.4148 - accuracy: 0.8024 - val_loss: 0.6034 - val_accuracy: 0.7073\n",
      "Epoch 28/50\n",
      "16/16 [==============================] - 0s 4ms/step - loss: 0.4041 - accuracy: 0.8086 - val_loss: 0.6171 - val_accuracy: 0.7480\n",
      "Epoch 29/50\n",
      "16/16 [==============================] - 0s 4ms/step - loss: 0.4005 - accuracy: 0.8004 - val_loss: 0.6252 - val_accuracy: 0.7317\n",
      "Epoch 30/50\n",
      "16/16 [==============================] - 0s 5ms/step - loss: 0.3900 - accuracy: 0.8269 - val_loss: 0.6347 - val_accuracy: 0.7073\n",
      "Epoch 31/50\n",
      "16/16 [==============================] - 0s 5ms/step - loss: 0.3939 - accuracy: 0.8126 - val_loss: 0.6254 - val_accuracy: 0.7317\n",
      "Epoch 32/50\n",
      "16/16 [==============================] - 0s 5ms/step - loss: 0.4101 - accuracy: 0.7963 - val_loss: 0.6298 - val_accuracy: 0.7073\n",
      "Epoch 33/50\n",
      "16/16 [==============================] - 0s 5ms/step - loss: 0.3921 - accuracy: 0.8228 - val_loss: 0.6390 - val_accuracy: 0.7154\n",
      "Epoch 34/50\n",
      "16/16 [==============================] - 0s 5ms/step - loss: 0.4016 - accuracy: 0.8065 - val_loss: 0.6364 - val_accuracy: 0.6992\n",
      "Epoch 35/50\n",
      "16/16 [==============================] - 0s 4ms/step - loss: 0.3853 - accuracy: 0.8106 - val_loss: 0.6343 - val_accuracy: 0.7073\n",
      "Epoch 36/50\n",
      "16/16 [==============================] - 0s 4ms/step - loss: 0.3986 - accuracy: 0.8045 - val_loss: 0.6264 - val_accuracy: 0.7236\n",
      "Epoch 37/50\n",
      "16/16 [==============================] - 0s 5ms/step - loss: 0.3724 - accuracy: 0.8289 - val_loss: 0.6304 - val_accuracy: 0.7073\n",
      "Epoch 38/50\n",
      "16/16 [==============================] - 0s 4ms/step - loss: 0.3908 - accuracy: 0.8248 - val_loss: 0.6361 - val_accuracy: 0.7073\n",
      "Epoch 39/50\n",
      "16/16 [==============================] - 0s 3ms/step - loss: 0.3794 - accuracy: 0.8310 - val_loss: 0.6460 - val_accuracy: 0.7073\n",
      "Epoch 40/50\n",
      "16/16 [==============================] - 0s 4ms/step - loss: 0.3938 - accuracy: 0.8147 - val_loss: 0.6342 - val_accuracy: 0.7073\n",
      "Epoch 41/50\n",
      "16/16 [==============================] - 0s 4ms/step - loss: 0.3830 - accuracy: 0.8187 - val_loss: 0.6309 - val_accuracy: 0.7317\n",
      "Epoch 42/50\n",
      "16/16 [==============================] - 0s 4ms/step - loss: 0.3935 - accuracy: 0.8187 - val_loss: 0.6438 - val_accuracy: 0.7236\n",
      "Epoch 43/50\n",
      "16/16 [==============================] - 0s 4ms/step - loss: 0.3829 - accuracy: 0.8167 - val_loss: 0.6378 - val_accuracy: 0.7317\n",
      "Epoch 44/50\n",
      "16/16 [==============================] - 0s 4ms/step - loss: 0.3952 - accuracy: 0.8391 - val_loss: 0.6477 - val_accuracy: 0.7236\n",
      "Epoch 45/50\n",
      "16/16 [==============================] - 0s 3ms/step - loss: 0.3692 - accuracy: 0.8269 - val_loss: 0.6466 - val_accuracy: 0.7236\n",
      "Epoch 46/50\n",
      "16/16 [==============================] - 0s 3ms/step - loss: 0.3797 - accuracy: 0.8126 - val_loss: 0.6282 - val_accuracy: 0.7317\n",
      "Epoch 47/50\n",
      "16/16 [==============================] - 0s 3ms/step - loss: 0.3791 - accuracy: 0.8187 - val_loss: 0.6414 - val_accuracy: 0.7480\n",
      "Epoch 48/50\n",
      "16/16 [==============================] - 0s 4ms/step - loss: 0.3737 - accuracy: 0.8350 - val_loss: 0.6472 - val_accuracy: 0.7073\n",
      "Epoch 49/50\n",
      "16/16 [==============================] - 0s 4ms/step - loss: 0.3709 - accuracy: 0.8167 - val_loss: 0.6734 - val_accuracy: 0.6829\n",
      "Epoch 50/50\n",
      "16/16 [==============================] - 0s 3ms/step - loss: 0.3861 - accuracy: 0.8208 - val_loss: 0.6773 - val_accuracy: 0.6911\n"
     ]
    },
    {
     "data": {
      "text/plain": [
       "<keras.callbacks.History at 0x28a41960250>"
      ]
     },
     "execution_count": 44,
     "metadata": {},
     "output_type": "execute_result"
    }
   ],
   "source": [
    "nn1.compile(loss=\"binary_crossentropy\",optimizer=\"Adam\",metrics=[\"accuracy\"])\n",
    "nn1.fit(X_new,Y,validation_split=0.2,epochs=50)"
   ]
  },
  {
   "cell_type": "code",
   "execution_count": 45,
   "id": "24d027af",
   "metadata": {},
   "outputs": [],
   "source": [
    "w = []\n",
    "for i in nn1.predict(xtest):\n",
    "    if(i[0]<0.5):\n",
    "        w.append(0)\n",
    "    else:\n",
    "        w.append(1)"
   ]
  },
  {
   "cell_type": "code",
   "execution_count": 46,
   "id": "f8ba7003",
   "metadata": {},
   "outputs": [
    {
     "data": {
      "text/plain": [
       "[0, 0, 0, 1, 0, 0]"
      ]
     },
     "execution_count": 46,
     "metadata": {},
     "output_type": "execute_result"
    }
   ],
   "source": [
    "w[:6]"
   ]
  },
  {
   "cell_type": "code",
   "execution_count": 47,
   "id": "af4555a6",
   "metadata": {},
   "outputs": [
    {
     "data": {
      "text/plain": [
       "0.8211382113821138"
      ]
     },
     "execution_count": 47,
     "metadata": {},
     "output_type": "execute_result"
    }
   ],
   "source": [
    "from sklearn.metrics import accuracy_score\n",
    "accuracy_score(ytest,w)"
   ]
  },
  {
   "cell_type": "markdown",
   "id": "5e344a85",
   "metadata": {},
   "source": [
    "# Prediction"
   ]
  },
  {
   "cell_type": "code",
   "execution_count": 48,
   "id": "7218ce30",
   "metadata": {},
   "outputs": [],
   "source": [
    "test = pd.read_csv(\"C:/Users/AYUSH/Desktop/Dataset/Diabetes Dataset/test.csv\")"
   ]
  },
  {
   "cell_type": "code",
   "execution_count": 49,
   "id": "c2583210",
   "metadata": {},
   "outputs": [
    {
     "data": {
      "text/html": [
       "<div>\n",
       "<style scoped>\n",
       "    .dataframe tbody tr th:only-of-type {\n",
       "        vertical-align: middle;\n",
       "    }\n",
       "\n",
       "    .dataframe tbody tr th {\n",
       "        vertical-align: top;\n",
       "    }\n",
       "\n",
       "    .dataframe thead th {\n",
       "        text-align: right;\n",
       "    }\n",
       "</style>\n",
       "<table border=\"1\" class=\"dataframe\">\n",
       "  <thead>\n",
       "    <tr style=\"text-align: right;\">\n",
       "      <th></th>\n",
       "      <th>p_id</th>\n",
       "      <th>no_times_pregnant</th>\n",
       "      <th>glucose_concentration</th>\n",
       "      <th>blood_pressure</th>\n",
       "      <th>skin_fold_thickness</th>\n",
       "      <th>serum_insulin</th>\n",
       "      <th>bmi</th>\n",
       "      <th>diabetes pedigree</th>\n",
       "      <th>age</th>\n",
       "    </tr>\n",
       "  </thead>\n",
       "  <tbody>\n",
       "    <tr>\n",
       "      <th>0</th>\n",
       "      <td>437</td>\n",
       "      <td>12</td>\n",
       "      <td>140</td>\n",
       "      <td>85</td>\n",
       "      <td>33</td>\n",
       "      <td>0</td>\n",
       "      <td>37.4</td>\n",
       "      <td>0.244</td>\n",
       "      <td>41</td>\n",
       "    </tr>\n",
       "    <tr>\n",
       "      <th>1</th>\n",
       "      <td>411</td>\n",
       "      <td>6</td>\n",
       "      <td>102</td>\n",
       "      <td>90</td>\n",
       "      <td>39</td>\n",
       "      <td>0</td>\n",
       "      <td>35.7</td>\n",
       "      <td>0.674</td>\n",
       "      <td>28</td>\n",
       "    </tr>\n",
       "    <tr>\n",
       "      <th>2</th>\n",
       "      <td>639</td>\n",
       "      <td>7</td>\n",
       "      <td>97</td>\n",
       "      <td>76</td>\n",
       "      <td>32</td>\n",
       "      <td>91</td>\n",
       "      <td>40.9</td>\n",
       "      <td>0.871</td>\n",
       "      <td>32</td>\n",
       "    </tr>\n",
       "    <tr>\n",
       "      <th>3</th>\n",
       "      <td>213</td>\n",
       "      <td>7</td>\n",
       "      <td>179</td>\n",
       "      <td>95</td>\n",
       "      <td>31</td>\n",
       "      <td>0</td>\n",
       "      <td>34.2</td>\n",
       "      <td>0.164</td>\n",
       "      <td>60</td>\n",
       "    </tr>\n",
       "    <tr>\n",
       "      <th>4</th>\n",
       "      <td>181</td>\n",
       "      <td>6</td>\n",
       "      <td>87</td>\n",
       "      <td>80</td>\n",
       "      <td>0</td>\n",
       "      <td>0</td>\n",
       "      <td>23.2</td>\n",
       "      <td>0.084</td>\n",
       "      <td>32</td>\n",
       "    </tr>\n",
       "  </tbody>\n",
       "</table>\n",
       "</div>"
      ],
      "text/plain": [
       "   p_id  no_times_pregnant  glucose_concentration  blood_pressure  \\\n",
       "0   437                 12                    140              85   \n",
       "1   411                  6                    102              90   \n",
       "2   639                  7                     97              76   \n",
       "3   213                  7                    179              95   \n",
       "4   181                  6                     87              80   \n",
       "\n",
       "   skin_fold_thickness  serum_insulin   bmi  diabetes pedigree  age  \n",
       "0                   33              0  37.4              0.244   41  \n",
       "1                   39              0  35.7              0.674   28  \n",
       "2                   32             91  40.9              0.871   32  \n",
       "3                   31              0  34.2              0.164   60  \n",
       "4                    0              0  23.2              0.084   32  "
      ]
     },
     "execution_count": 49,
     "metadata": {},
     "output_type": "execute_result"
    }
   ],
   "source": [
    "test.head()"
   ]
  },
  {
   "cell_type": "code",
   "execution_count": 50,
   "id": "24285551",
   "metadata": {},
   "outputs": [],
   "source": [
    "Test = test.drop(labels=\"p_id\",axis=1)"
   ]
  },
  {
   "cell_type": "code",
   "execution_count": 51,
   "id": "ace4b52c",
   "metadata": {},
   "outputs": [
    {
     "data": {
      "text/plain": [
       "p_id                     0\n",
       "no_times_pregnant        0\n",
       "glucose_concentration    0\n",
       "blood_pressure           0\n",
       "skin_fold_thickness      0\n",
       "serum_insulin            0\n",
       "bmi                      0\n",
       "diabetes pedigree        0\n",
       "age                      0\n",
       "dtype: int64"
      ]
     },
     "execution_count": 51,
     "metadata": {},
     "output_type": "execute_result"
    }
   ],
   "source": [
    "test.isna().sum()"
   ]
  },
  {
   "cell_type": "code",
   "execution_count": 52,
   "id": "255cbf68",
   "metadata": {},
   "outputs": [],
   "source": [
    "T1 = pd.DataFrame(ss.fit_transform(Test),columns=Test.columns)"
   ]
  },
  {
   "cell_type": "code",
   "execution_count": 53,
   "id": "73a56f8f",
   "metadata": {},
   "outputs": [
    {
     "data": {
      "text/html": [
       "<div>\n",
       "<style scoped>\n",
       "    .dataframe tbody tr th:only-of-type {\n",
       "        vertical-align: middle;\n",
       "    }\n",
       "\n",
       "    .dataframe tbody tr th {\n",
       "        vertical-align: top;\n",
       "    }\n",
       "\n",
       "    .dataframe thead th {\n",
       "        text-align: right;\n",
       "    }\n",
       "</style>\n",
       "<table border=\"1\" class=\"dataframe\">\n",
       "  <thead>\n",
       "    <tr style=\"text-align: right;\">\n",
       "      <th></th>\n",
       "      <th>no_times_pregnant</th>\n",
       "      <th>glucose_concentration</th>\n",
       "      <th>blood_pressure</th>\n",
       "      <th>skin_fold_thickness</th>\n",
       "      <th>serum_insulin</th>\n",
       "      <th>bmi</th>\n",
       "      <th>diabetes pedigree</th>\n",
       "      <th>age</th>\n",
       "    </tr>\n",
       "  </thead>\n",
       "  <tbody>\n",
       "    <tr>\n",
       "      <th>0</th>\n",
       "      <td>2.398045</td>\n",
       "      <td>0.510766</td>\n",
       "      <td>0.861270</td>\n",
       "      <td>0.699161</td>\n",
       "      <td>-0.778084</td>\n",
       "      <td>0.689682</td>\n",
       "      <td>-0.754295</td>\n",
       "      <td>0.732529</td>\n",
       "    </tr>\n",
       "    <tr>\n",
       "      <th>1</th>\n",
       "      <td>0.640873</td>\n",
       "      <td>-0.585713</td>\n",
       "      <td>1.157464</td>\n",
       "      <td>1.070440</td>\n",
       "      <td>-0.778084</td>\n",
       "      <td>0.458788</td>\n",
       "      <td>0.543396</td>\n",
       "      <td>-0.443512</td>\n",
       "    </tr>\n",
       "    <tr>\n",
       "      <th>2</th>\n",
       "      <td>0.933735</td>\n",
       "      <td>-0.729986</td>\n",
       "      <td>0.328121</td>\n",
       "      <td>0.637281</td>\n",
       "      <td>0.089936</td>\n",
       "      <td>1.165051</td>\n",
       "      <td>1.137920</td>\n",
       "      <td>-0.081653</td>\n",
       "    </tr>\n",
       "    <tr>\n",
       "      <th>3</th>\n",
       "      <td>0.933735</td>\n",
       "      <td>1.636099</td>\n",
       "      <td>1.453658</td>\n",
       "      <td>0.575402</td>\n",
       "      <td>-0.778084</td>\n",
       "      <td>0.255059</td>\n",
       "      <td>-0.995726</td>\n",
       "      <td>2.451357</td>\n",
       "    </tr>\n",
       "    <tr>\n",
       "      <th>4</th>\n",
       "      <td>0.640873</td>\n",
       "      <td>-1.018533</td>\n",
       "      <td>0.565076</td>\n",
       "      <td>-1.342871</td>\n",
       "      <td>-0.778084</td>\n",
       "      <td>-1.238958</td>\n",
       "      <td>-1.237157</td>\n",
       "      <td>-0.081653</td>\n",
       "    </tr>\n",
       "  </tbody>\n",
       "</table>\n",
       "</div>"
      ],
      "text/plain": [
       "   no_times_pregnant  glucose_concentration  blood_pressure  \\\n",
       "0           2.398045               0.510766        0.861270   \n",
       "1           0.640873              -0.585713        1.157464   \n",
       "2           0.933735              -0.729986        0.328121   \n",
       "3           0.933735               1.636099        1.453658   \n",
       "4           0.640873              -1.018533        0.565076   \n",
       "\n",
       "   skin_fold_thickness  serum_insulin       bmi  diabetes pedigree       age  \n",
       "0             0.699161      -0.778084  0.689682          -0.754295  0.732529  \n",
       "1             1.070440      -0.778084  0.458788           0.543396 -0.443512  \n",
       "2             0.637281       0.089936  1.165051           1.137920 -0.081653  \n",
       "3             0.575402      -0.778084  0.255059          -0.995726  2.451357  \n",
       "4            -1.342871      -0.778084 -1.238958          -1.237157 -0.081653  "
      ]
     },
     "execution_count": 53,
     "metadata": {},
     "output_type": "execute_result"
    }
   ],
   "source": [
    "T1.head()"
   ]
  },
  {
   "cell_type": "code",
   "execution_count": 54,
   "id": "8702e64c",
   "metadata": {},
   "outputs": [],
   "source": [
    "final_Pred = []\n",
    "for i in nn1.predict(T1):\n",
    "    if(i<0.5):\n",
    "        final_Pred.append(0)\n",
    "    else:\n",
    "        final_Pred.append(1)\n",
    "    "
   ]
  },
  {
   "cell_type": "code",
   "execution_count": 55,
   "id": "4cf79e1b",
   "metadata": {},
   "outputs": [
    {
     "data": {
      "text/plain": [
       "[1, 1, 1, 0, 0]"
      ]
     },
     "execution_count": 55,
     "metadata": {},
     "output_type": "execute_result"
    }
   ],
   "source": [
    "final_Pred[:5]"
   ]
  },
  {
   "cell_type": "code",
   "execution_count": 56,
   "id": "466c7994",
   "metadata": {},
   "outputs": [],
   "source": [
    "test[\"diabetes\"] = final_Pred"
   ]
  },
  {
   "cell_type": "code",
   "execution_count": 57,
   "id": "88a80abc",
   "metadata": {},
   "outputs": [
    {
     "data": {
      "text/html": [
       "<div>\n",
       "<style scoped>\n",
       "    .dataframe tbody tr th:only-of-type {\n",
       "        vertical-align: middle;\n",
       "    }\n",
       "\n",
       "    .dataframe tbody tr th {\n",
       "        vertical-align: top;\n",
       "    }\n",
       "\n",
       "    .dataframe thead th {\n",
       "        text-align: right;\n",
       "    }\n",
       "</style>\n",
       "<table border=\"1\" class=\"dataframe\">\n",
       "  <thead>\n",
       "    <tr style=\"text-align: right;\">\n",
       "      <th></th>\n",
       "      <th>p_id</th>\n",
       "      <th>no_times_pregnant</th>\n",
       "      <th>glucose_concentration</th>\n",
       "      <th>blood_pressure</th>\n",
       "      <th>skin_fold_thickness</th>\n",
       "      <th>serum_insulin</th>\n",
       "      <th>bmi</th>\n",
       "      <th>diabetes pedigree</th>\n",
       "      <th>age</th>\n",
       "      <th>diabetes</th>\n",
       "    </tr>\n",
       "  </thead>\n",
       "  <tbody>\n",
       "    <tr>\n",
       "      <th>0</th>\n",
       "      <td>437</td>\n",
       "      <td>12</td>\n",
       "      <td>140</td>\n",
       "      <td>85</td>\n",
       "      <td>33</td>\n",
       "      <td>0</td>\n",
       "      <td>37.4</td>\n",
       "      <td>0.244</td>\n",
       "      <td>41</td>\n",
       "      <td>1</td>\n",
       "    </tr>\n",
       "    <tr>\n",
       "      <th>1</th>\n",
       "      <td>411</td>\n",
       "      <td>6</td>\n",
       "      <td>102</td>\n",
       "      <td>90</td>\n",
       "      <td>39</td>\n",
       "      <td>0</td>\n",
       "      <td>35.7</td>\n",
       "      <td>0.674</td>\n",
       "      <td>28</td>\n",
       "      <td>1</td>\n",
       "    </tr>\n",
       "    <tr>\n",
       "      <th>2</th>\n",
       "      <td>639</td>\n",
       "      <td>7</td>\n",
       "      <td>97</td>\n",
       "      <td>76</td>\n",
       "      <td>32</td>\n",
       "      <td>91</td>\n",
       "      <td>40.9</td>\n",
       "      <td>0.871</td>\n",
       "      <td>32</td>\n",
       "      <td>1</td>\n",
       "    </tr>\n",
       "    <tr>\n",
       "      <th>3</th>\n",
       "      <td>213</td>\n",
       "      <td>7</td>\n",
       "      <td>179</td>\n",
       "      <td>95</td>\n",
       "      <td>31</td>\n",
       "      <td>0</td>\n",
       "      <td>34.2</td>\n",
       "      <td>0.164</td>\n",
       "      <td>60</td>\n",
       "      <td>0</td>\n",
       "    </tr>\n",
       "    <tr>\n",
       "      <th>4</th>\n",
       "      <td>181</td>\n",
       "      <td>6</td>\n",
       "      <td>87</td>\n",
       "      <td>80</td>\n",
       "      <td>0</td>\n",
       "      <td>0</td>\n",
       "      <td>23.2</td>\n",
       "      <td>0.084</td>\n",
       "      <td>32</td>\n",
       "      <td>0</td>\n",
       "    </tr>\n",
       "  </tbody>\n",
       "</table>\n",
       "</div>"
      ],
      "text/plain": [
       "   p_id  no_times_pregnant  glucose_concentration  blood_pressure  \\\n",
       "0   437                 12                    140              85   \n",
       "1   411                  6                    102              90   \n",
       "2   639                  7                     97              76   \n",
       "3   213                  7                    179              95   \n",
       "4   181                  6                     87              80   \n",
       "\n",
       "   skin_fold_thickness  serum_insulin   bmi  diabetes pedigree  age  diabetes  \n",
       "0                   33              0  37.4              0.244   41         1  \n",
       "1                   39              0  35.7              0.674   28         1  \n",
       "2                   32             91  40.9              0.871   32         1  \n",
       "3                   31              0  34.2              0.164   60         0  \n",
       "4                    0              0  23.2              0.084   32         0  "
      ]
     },
     "execution_count": 57,
     "metadata": {},
     "output_type": "execute_result"
    }
   ],
   "source": [
    "test.head()"
   ]
  },
  {
   "cell_type": "code",
   "execution_count": 58,
   "id": "0ebc3038",
   "metadata": {},
   "outputs": [],
   "source": [
    "test[[\"p_id\",\"diabetes\"]].to_csv(\"C:/Users/AYUSH/Desktop/Dataset/Diabetes Dataset/output.csv\")"
   ]
  },
  {
   "cell_type": "code",
   "execution_count": null,
   "id": "d299bd23",
   "metadata": {},
   "outputs": [],
   "source": []
  },
  {
   "cell_type": "code",
   "execution_count": null,
   "id": "75801fbc",
   "metadata": {},
   "outputs": [],
   "source": []
  }
 ],
 "metadata": {
  "kernelspec": {
   "display_name": "Python 3 (ipykernel)",
   "language": "python",
   "name": "python3"
  },
  "language_info": {
   "codemirror_mode": {
    "name": "ipython",
    "version": 3
   },
   "file_extension": ".py",
   "mimetype": "text/x-python",
   "name": "python",
   "nbconvert_exporter": "python",
   "pygments_lexer": "ipython3",
   "version": "3.9.7"
  }
 },
 "nbformat": 4,
 "nbformat_minor": 5
}
